{
 "cells": [
  {
   "cell_type": "code",
   "execution_count": 26,
   "metadata": {},
   "outputs": [
    {
     "output_type": "execute_result",
     "data": {
      "text/plain": "      Conversation ID                                   Conversation URL  \\\n1076   51746600009050  https://app.intercom.com/a/apps/xkegk7cr/inbox...   \n1077   51746600009057  https://app.intercom.com/a/apps/xkegk7cr/inbox...   \n1078   51746600009058  https://app.intercom.com/a/apps/xkegk7cr/inbox...   \n1079   51746600009074  https://app.intercom.com/a/apps/xkegk7cr/inbox...   \n1080      27502719185  https://app.intercom.com/a/apps/xkegk7cr/inbox...   \n\n               Created at      Last updated at            Time Zone  \\\n1076  2020-06-20 12:29:43  2020-06-20 13:11:59  America/Los_Angeles   \n1077  2020-06-20 12:39:39  2020-06-20 13:11:47  America/Los_Angeles   \n1078  2020-06-20 12:40:28  2020-06-20 13:10:39  America/Los_Angeles   \n1079  2020-06-20 13:02:30  2020-06-20 13:12:55  America/Los_Angeles   \n1080  2020-06-14 13:47:19  2020-06-14 14:02:33  America/Los_Angeles   \n\n     Conversation status  Channel Inbound/Outbound Source  \\\n1076              Closed  Desktop          Inbound    NaN   \n1077              Closed  Desktop          Inbound    NaN   \n1078              Closed  Desktop          Inbound    NaN   \n1079              Closed  Desktop          Inbound    NaN   \n1080              Closed  Unknown         Outbound    NaN   \n\n                                      Conversation tags  ... Closed by (name)  \\\n1076                                  20200620-dbserver  ...             Jahz   \n1077                                  20200620-dbserver  ...             Jahz   \n1078                                  20200620-dbserver  ...  Michael Gonzaga   \n1079            database error, gold, 20200620-dbserver  ...  Michael Gonzaga   \n1080  spam, registration bot, calendar drop, ChatFun...  ...             Jahz   \n\n             Teammates participated Time to first reply (seconds)  \\\n1076                           Jahz                         122.0   \n1077                           Jahz                         211.0   \n1078  Roald Umandal,Michael Gonzaga                         349.0   \n1079                Michael Gonzaga                         172.0   \n1080                            NaN                           NaN   \n\n     Time to last close (seconds) Teammate replies Reopened  Closed  \\\n1076                       2526.0                8        0       1   \n1077                       1917.0                7        0       1   \n1078                       1292.0                3        0       1   \n1079                        601.0               10        0       1   \n1080                        655.0                0        0       3   \n\n      Conversation rating requested  Conversation rating  \\\n1076                            yes                  NaN   \n1077                            yes                  NaN   \n1078                            yes                  NaN   \n1079                            yes                  5.0   \n1080                             no                  NaN   \n\n     Conversation rating remark  \n1076                        NaN  \n1077                        NaN  \n1078                        NaN  \n1079            Mick did great!  \n1080                        NaN  \n\n[5 rows x 35 columns]",
      "text/html": "<div>\n<style scoped>\n    .dataframe tbody tr th:only-of-type {\n        vertical-align: middle;\n    }\n\n    .dataframe tbody tr th {\n        vertical-align: top;\n    }\n\n    .dataframe thead th {\n        text-align: right;\n    }\n</style>\n<table border=\"1\" class=\"dataframe\">\n  <thead>\n    <tr style=\"text-align: right;\">\n      <th></th>\n      <th>Conversation ID</th>\n      <th>Conversation URL</th>\n      <th>Created at</th>\n      <th>Last updated at</th>\n      <th>Time Zone</th>\n      <th>Conversation status</th>\n      <th>Channel</th>\n      <th>Inbound/Outbound</th>\n      <th>Source</th>\n      <th>Conversation tags</th>\n      <th>...</th>\n      <th>Closed by (name)</th>\n      <th>Teammates participated</th>\n      <th>Time to first reply (seconds)</th>\n      <th>Time to last close (seconds)</th>\n      <th>Teammate replies</th>\n      <th>Reopened</th>\n      <th>Closed</th>\n      <th>Conversation rating requested</th>\n      <th>Conversation rating</th>\n      <th>Conversation rating remark</th>\n    </tr>\n  </thead>\n  <tbody>\n    <tr>\n      <th>1076</th>\n      <td>51746600009050</td>\n      <td>https://app.intercom.com/a/apps/xkegk7cr/inbox...</td>\n      <td>2020-06-20 12:29:43</td>\n      <td>2020-06-20 13:11:59</td>\n      <td>America/Los_Angeles</td>\n      <td>Closed</td>\n      <td>Desktop</td>\n      <td>Inbound</td>\n      <td>NaN</td>\n      <td>20200620-dbserver</td>\n      <td>...</td>\n      <td>Jahz</td>\n      <td>Jahz</td>\n      <td>122.0</td>\n      <td>2526.0</td>\n      <td>8</td>\n      <td>0</td>\n      <td>1</td>\n      <td>yes</td>\n      <td>NaN</td>\n      <td>NaN</td>\n    </tr>\n    <tr>\n      <th>1077</th>\n      <td>51746600009057</td>\n      <td>https://app.intercom.com/a/apps/xkegk7cr/inbox...</td>\n      <td>2020-06-20 12:39:39</td>\n      <td>2020-06-20 13:11:47</td>\n      <td>America/Los_Angeles</td>\n      <td>Closed</td>\n      <td>Desktop</td>\n      <td>Inbound</td>\n      <td>NaN</td>\n      <td>20200620-dbserver</td>\n      <td>...</td>\n      <td>Jahz</td>\n      <td>Jahz</td>\n      <td>211.0</td>\n      <td>1917.0</td>\n      <td>7</td>\n      <td>0</td>\n      <td>1</td>\n      <td>yes</td>\n      <td>NaN</td>\n      <td>NaN</td>\n    </tr>\n    <tr>\n      <th>1078</th>\n      <td>51746600009058</td>\n      <td>https://app.intercom.com/a/apps/xkegk7cr/inbox...</td>\n      <td>2020-06-20 12:40:28</td>\n      <td>2020-06-20 13:10:39</td>\n      <td>America/Los_Angeles</td>\n      <td>Closed</td>\n      <td>Desktop</td>\n      <td>Inbound</td>\n      <td>NaN</td>\n      <td>20200620-dbserver</td>\n      <td>...</td>\n      <td>Michael Gonzaga</td>\n      <td>Roald Umandal,Michael Gonzaga</td>\n      <td>349.0</td>\n      <td>1292.0</td>\n      <td>3</td>\n      <td>0</td>\n      <td>1</td>\n      <td>yes</td>\n      <td>NaN</td>\n      <td>NaN</td>\n    </tr>\n    <tr>\n      <th>1079</th>\n      <td>51746600009074</td>\n      <td>https://app.intercom.com/a/apps/xkegk7cr/inbox...</td>\n      <td>2020-06-20 13:02:30</td>\n      <td>2020-06-20 13:12:55</td>\n      <td>America/Los_Angeles</td>\n      <td>Closed</td>\n      <td>Desktop</td>\n      <td>Inbound</td>\n      <td>NaN</td>\n      <td>database error, gold, 20200620-dbserver</td>\n      <td>...</td>\n      <td>Michael Gonzaga</td>\n      <td>Michael Gonzaga</td>\n      <td>172.0</td>\n      <td>601.0</td>\n      <td>10</td>\n      <td>0</td>\n      <td>1</td>\n      <td>yes</td>\n      <td>5.0</td>\n      <td>Mick did great!</td>\n    </tr>\n    <tr>\n      <th>1080</th>\n      <td>27502719185</td>\n      <td>https://app.intercom.com/a/apps/xkegk7cr/inbox...</td>\n      <td>2020-06-14 13:47:19</td>\n      <td>2020-06-14 14:02:33</td>\n      <td>America/Los_Angeles</td>\n      <td>Closed</td>\n      <td>Unknown</td>\n      <td>Outbound</td>\n      <td>NaN</td>\n      <td>spam, registration bot, calendar drop, ChatFun...</td>\n      <td>...</td>\n      <td>Jahz</td>\n      <td>NaN</td>\n      <td>NaN</td>\n      <td>655.0</td>\n      <td>0</td>\n      <td>0</td>\n      <td>3</td>\n      <td>no</td>\n      <td>NaN</td>\n      <td>NaN</td>\n    </tr>\n  </tbody>\n</table>\n<p>5 rows × 35 columns</p>\n</div>"
     },
     "metadata": {},
     "execution_count": 26
    }
   ],
   "source": [
    "import pandas as pd\n",
    "\n",
    "# Load CSV into a dataframe.\n",
    "chats_df = pd.read_csv('csv/intercom/inbox-data.csv')\n",
    "chats_df.tail()\n"
   ]
  },
  {
   "cell_type": "code",
   "execution_count": 27,
   "metadata": {
    "tags": []
   },
   "outputs": [
    {
     "output_type": "stream",
     "name": "stdout",
     "text": "7\n"
    }
   ],
   "source": [
    "tag = '20200620-dbserver'\n",
    "matches = chats_df[chats_df['Conversation tags'].fillna('').str.match(tag)]\n",
    "count = len(matches.index)\n",
    "print(count)"
   ]
  },
  {
   "cell_type": "code",
   "execution_count": 28,
   "metadata": {},
   "outputs": [
    {
     "output_type": "execute_result",
     "data": {
      "text/plain": "             Name        Team\n29  Sarah German   US (Sarah)\n30       Tiffany   US (Sarah)\n31    Tim Wooten     US (Tim)\n32   Tyler Fahey   US (Sarah)\n33  Yuri Pochepko          EU",
      "text/html": "<div>\n<style scoped>\n    .dataframe tbody tr th:only-of-type {\n        vertical-align: middle;\n    }\n\n    .dataframe tbody tr th {\n        vertical-align: top;\n    }\n\n    .dataframe thead th {\n        text-align: right;\n    }\n</style>\n<table border=\"1\" class=\"dataframe\">\n  <thead>\n    <tr style=\"text-align: right;\">\n      <th></th>\n      <th>Name</th>\n      <th>Team</th>\n    </tr>\n  </thead>\n  <tbody>\n    <tr>\n      <th>29</th>\n      <td>Sarah German</td>\n      <td>US (Sarah)</td>\n    </tr>\n    <tr>\n      <th>30</th>\n      <td>Tiffany</td>\n      <td>US (Sarah)</td>\n    </tr>\n    <tr>\n      <th>31</th>\n      <td>Tim Wooten</td>\n      <td>US (Tim)</td>\n    </tr>\n    <tr>\n      <th>32</th>\n      <td>Tyler Fahey</td>\n      <td>US (Sarah)</td>\n    </tr>\n    <tr>\n      <th>33</th>\n      <td>Yuri Pochepko</td>\n      <td>EU</td>\n    </tr>\n  </tbody>\n</table>\n</div>"
     },
     "metadata": {},
     "execution_count": 28
    }
   ],
   "source": [
    "agents_df = pd.read_csv('csv/cses_by_team.csv')\n",
    "agents_df.tail()"
   ]
  },
  {
   "cell_type": "code",
   "execution_count": 34,
   "metadata": {
    "tags": []
   },
   "outputs": [
    {
     "output_type": "stream",
     "name": "stdout",
     "text": "{'Albert Causing': 0, 'Alexander Sukhodolsky': 0, 'Aminul Islam': 0, 'Brenda Boggs': 0, 'Carey Dayrit': 0, 'Carl Alberto': 0, 'Chris Finney': 0, 'Dan Ficker': 0, 'Dan Grant': 0, 'Dante': 0, 'Darwin Delimos': 0, 'Emmanuel Hallarsis': 0, 'Evgeniy Melnikov': 0, 'Gerald Villorente': 0, 'Jahz': 2, 'Jen D.': 0, 'Jess Taylor': 0, 'Jose Castaneda': 0, 'Karen Lozada': 0, 'Ken Marfilla': 0, 'Michael Gonzaga': 0, 'Mike Richardson': 0, 'Mostafiz': 0, 'Motiur Rahman': 0, 'Paul Krischer': 0, 'Rakibul Islam': 0, 'Ramcham Gaid': 0, 'Roald Umandal': 5, 'Ruthie Hallarsis': 0, 'Sarah German': 0, 'Tiffany': 0, 'Tim Wooten': 0, 'Tyler Fahey': 0, 'Yuri Pochepko': 0}\n"
    }
   ],
   "source": [
    "agents = agents_df['Name'].tolist()\n",
    "agents_conversions = {}\n",
    "\n",
    "    # Get each agent's ratio.\n",
    "for agent in agents:\n",
    "    agent = agent.strip() # why's there trailing whitespace on these? CSV?\n",
    "    agent_chats = chats_df[chats_df['Teammates participated'].fillna('').str.match(agent)]\n",
    "    converted_to_ticket = agent_chats[agent_chats['Conversation tags'].fillna('').str.match(tag)]\n",
    "    count = len(converted_to_ticket.index)\n",
    "    agents_conversions.update({agent : count})\n",
    "\n",
    "print(agents_conversions)\n",
    "\n"
   ]
  },
  {
   "cell_type": "code",
   "execution_count": null,
   "metadata": {},
   "outputs": [],
   "source": []
  }
 ],
 "metadata": {
  "kernelspec": {
   "display_name": "Python 3",
   "language": "python",
   "name": "python3"
  },
  "language_info": {
   "codemirror_mode": {
    "name": "ipython",
    "version": 3
   },
   "file_extension": ".py",
   "mimetype": "text/x-python",
   "name": "python",
   "nbconvert_exporter": "python",
   "pygments_lexer": "ipython3",
   "version": "3.7.6-final"
  }
 },
 "nbformat": 4,
 "nbformat_minor": 4
}